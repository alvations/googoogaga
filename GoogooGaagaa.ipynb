{
 "cells": [
  {
   "cell_type": "code",
   "execution_count": 69,
   "metadata": {},
   "outputs": [],
   "source": [
    "katakana_minus_hiragana = 0x30a1 - 0x3041 # KATAKANA LETTER A - HIRAGANA A\n",
    "\n",
    "def is_hirgana(char):\n",
    "    return 0x3040 < ord(char[0]) and ord(char[0]) < 0x3097\n",
    "\n",
    "def is_katakana(char):\n",
    "    return 0x30a0 < ord(char[0]) and ord(char[0]) < 0x30f7\n",
    "\n",
    "def hiragana_to_katakana(hiragana_text):\n",
    "    katakana_text = \"\"\n",
    "    max_len = 0\n",
    "    for i, char in enumerate(hiragana_text):\n",
    "        if is_hirgana(char):\n",
    "            katakana_text += chr(ord(char) + katakana_minus_hiragana)\n",
    "            max_len += 1\n",
    "        else:\n",
    "            break\n",
    "    return katakana_text, max_len\n",
    "\n",
    "\n",
    "def katakana_to_hiragana(katakana_text):\n",
    "    hiragana_text = \"\"\n",
    "    max_len = 0\n",
    "    for i, char in enumerate(katakana_text):\n",
    "        if is_katakana(char):\n",
    "            hiragana_text += chr(ord(char) - katakana_minus_hiragana)\n",
    "            max_len += 1\n",
    "        else:\n",
    "            break\n",
    "    return hiragana_text, max_len\n"
   ]
  },
  {
   "cell_type": "code",
   "execution_count": 70,
   "metadata": {},
   "outputs": [
    {
     "name": "stdout",
     "output_type": "stream",
     "text": [
      "('かんたん', 4)\n",
      "('にゃ', 2)\n",
      "('っき', 2)\n",
      "('っふぁ', 3)\n",
      "('しつもん', 4)\n",
      "('ちがい', 3)\n"
     ]
    }
   ],
   "source": [
    "def test_H2K():\n",
    "    tests = [ (u\"かんたん\",   (u\"カンタン\", 4)),\n",
    "              (u\"にゃ\",       (u\"ニャ\",2)),\n",
    "              (u\"っき\",       (u\"ッキ\",2)),\n",
    "              (u\"っふぁ\",     (u\"ッファ\", 3)),\n",
    "              (u\"しつもん\",   (u\"シツモン\",4)),\n",
    "              (u\"ちがい\",     (u\"チガイ\",3)) ]\n",
    "    for _in, _out in tests:\n",
    "        assert hiragana_to_katakana(_in) == _out\n",
    "        \n",
    "def test_K2H():\n",
    "    tests = [ (u\"カンタン\",   (u\"かんたん\", 4)),\n",
    "              (u\"ニャ\",       (u\"にゃ\",2)),\n",
    "              (u\"ッキ\",       (u\"っき\",2)),\n",
    "              (u\"ッファ\",     (u\"っふぁ\", 3)),\n",
    "              (u\"シツモン\",   (u\"しつもん\",4)),\n",
    "              (u\"チガイ\",     (u\"ちがい\",3)) ]\n",
    "    for _in, _out in tests:\n",
    "        assert katakana_to_hiragana(_in) == _out\n",
    "    \n",
    "test_H2K()\n",
    "test_K2H()"
   ]
  },
  {
   "cell_type": "code",
   "execution_count": 52,
   "metadata": {},
   "outputs": [],
   "source": [
    "def read_hiragana_mappings(filename):\n",
    "    hiragana_to_romanji_mappings = {}\n",
    "    with open(filename) as fin:\n",
    "        for line in fin:\n",
    "            if line.startswith(';;'):\n",
    "                continue\n",
    "            else:\n",
    "                romanji, hiragana = line.strip().split()\n",
    "                hiragana_to_romanji_mappings[hiragana] = romanji\n",
    "    return hiragana_to_romanji_mappings"
   ]
  },
  {
   "cell_type": "code",
   "execution_count": 74,
   "metadata": {},
   "outputs": [],
   "source": [
    "hiragana_to_hepburn_mappings = read_hiragana_mappings('data/hepburnhira.utf8')\n",
    "hiragana_to_passport_mappings = read_hiragana_mappings('data/passporthira.utf8')\n",
    "hiragana_to_kunrei_mappings = read_hiragana_mappings('data/kunreihira.utf8')\n",
    "\n",
    "katakana_to_hepburn_mappings = read_hiragana_mappings('data/hepburndict.utf8')\n",
    "katakana_to_passport_mappings = read_hiragana_mappings('data/passportdict.utf8')\n",
    "katakana_to_kunrei_mappings = read_hiragana_mappings('data/kunreidict.utf8')\n"
   ]
  },
  {
   "cell_type": "code",
   "execution_count": 75,
   "metadata": {},
   "outputs": [],
   "source": [
    "def hiragana_to_romaji(hiragana_text, dictionary):\n",
    "    romanji_text = \"\"\n",
    "    max_len = -1\n",
    "    # Cap the maximum hiragana search at 4 characters.\n",
    "    # Because that's the largest key size in the dictionary.\n",
    "    r = min(len(hiragana_text)+1, 4) \n",
    "    for i in range(r):\n",
    "        if hiragana_text[:i] in dictionary:\n",
    "            if max_len < i:\n",
    "                max_len = i\n",
    "                romanji_text = dictionary[hiragana_text[:i]]\n",
    "    return romanji_text, max_len\n",
    "\n",
    "def katakana_to_romaji(katakana_text, dictionary):\n",
    "    romanji_text = \"\"\n",
    "    max_len = -1\n",
    "    # Cap the maximum katakana search at 4 characters.\n",
    "    # Because that's the largest key size in the dictionary.\n",
    "    r = min(len(katakana_text)+1, 4) \n",
    "    for i in range(r):\n",
    "        if katakana_text[:i] in dictionary:\n",
    "            if max_len < i:\n",
    "                max_len = i\n",
    "                romanji_text = dictionary[katakana_text[:i]]\n",
    "    return romanji_text, max_len"
   ]
  },
  {
   "cell_type": "code",
   "execution_count": 89,
   "metadata": {},
   "outputs": [],
   "source": [
    "def test_H2A():\n",
    "    tests = [ (u\"かんたん\",   (\"ka\", 1)),\n",
    "            (u\"にゃ\", (\"nya\",2)),\n",
    "            (u\"っき\", (\"kki\",2)),\n",
    "            (u\"っふぁ\", (\"ffa\", 3)),\n",
    "            (u\"しつもん\",   (\"shi\",1)),\n",
    "            (u\"ちがい\", (\"chi\",1)) ]\n",
    "    for _in, _out in tests:\n",
    "        assert hiragana_to_romaji(_in, hiragana_to_hepburn_mappings) == _out\n",
    "\n",
    "def test_K2A():\n",
    "    tests = [ (u\"カンタン\",   (\"ka\", 1)),\n",
    "            (u\"ニャ\", (\"nya\",2)),\n",
    "            (u\"ッキ\", (\"kki\",2)),\n",
    "            (u\"ッファ\", (\"ffa\", 3)),\n",
    "            (u\"シツモン\",   (\"shi\", 1)),\n",
    "            (u\"チガイ\",  (\"chi\", 1)),\n",
    "            (u\"ジ\", (\"ji\",1)) ]\n",
    "    for _in, _out in tests:\n",
    "        assert katakana_to_romaji(_in, katakana_to_hepburn_mappings) == _out\n",
    "        \n",
    "test_H2A()\n",
    "test_K2A()"
   ]
  },
  {
   "cell_type": "code",
   "execution_count": null,
   "metadata": {},
   "outputs": [],
   "source": [
    "def convert(text):\n",
    "    \n",
    "    output_text = \"\"\n",
    "    i = 0\n",
    "    while i <= len(text):\n",
    "        "
   ]
  },
  {
   "cell_type": "code",
   "execution_count": null,
   "metadata": {},
   "outputs": [],
   "source": []
  },
  {
   "cell_type": "code",
   "execution_count": null,
   "metadata": {},
   "outputs": [],
   "source": []
  },
  {
   "cell_type": "code",
   "execution_count": null,
   "metadata": {},
   "outputs": [],
   "source": []
  },
  {
   "cell_type": "code",
   "execution_count": null,
   "metadata": {},
   "outputs": [],
   "source": []
  },
  {
   "cell_type": "code",
   "execution_count": null,
   "metadata": {},
   "outputs": [],
   "source": []
  },
  {
   "cell_type": "code",
   "execution_count": null,
   "metadata": {},
   "outputs": [],
   "source": []
  },
  {
   "cell_type": "code",
   "execution_count": null,
   "metadata": {},
   "outputs": [],
   "source": []
  },
  {
   "cell_type": "code",
   "execution_count": null,
   "metadata": {},
   "outputs": [],
   "source": []
  },
  {
   "cell_type": "code",
   "execution_count": null,
   "metadata": {},
   "outputs": [],
   "source": []
  },
  {
   "cell_type": "code",
   "execution_count": null,
   "metadata": {},
   "outputs": [],
   "source": []
  }
 ],
 "metadata": {
  "kernelspec": {
   "display_name": "Python 3",
   "language": "python",
   "name": "python3"
  },
  "language_info": {
   "codemirror_mode": {
    "name": "ipython",
    "version": 3
   },
   "file_extension": ".py",
   "mimetype": "text/x-python",
   "name": "python",
   "nbconvert_exporter": "python",
   "pygments_lexer": "ipython3",
   "version": "3.6.1"
  }
 },
 "nbformat": 4,
 "nbformat_minor": 2
}
